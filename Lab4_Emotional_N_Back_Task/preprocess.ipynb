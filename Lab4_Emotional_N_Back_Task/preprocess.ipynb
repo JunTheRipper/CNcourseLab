{
 "cells": [
  {
   "cell_type": "code",
   "execution_count": 4,
   "metadata": {},
   "outputs": [
    {
     "data": {
      "text/html": [
       "<div>\n",
       "<style scoped>\n",
       "    .dataframe tbody tr th:only-of-type {\n",
       "        vertical-align: middle;\n",
       "    }\n",
       "\n",
       "    .dataframe tbody tr th {\n",
       "        vertical-align: top;\n",
       "    }\n",
       "\n",
       "    .dataframe thead th {\n",
       "        text-align: right;\n",
       "    }\n",
       "</style>\n",
       "<table border=\"1\" class=\"dataframe\">\n",
       "  <thead>\n",
       "    <tr style=\"text-align: right;\">\n",
       "      <th></th>\n",
       "      <th>图片内容</th>\n",
       "      <th>图片编号</th>\n",
       "      <th>效价</th>\n",
       "      <th>效价标准差</th>\n",
       "      <th>唤醒度</th>\n",
       "      <th>唤醒度标准差</th>\n",
       "      <th>优势度</th>\n",
       "      <th>优势度标准差</th>\n",
       "    </tr>\n",
       "  </thead>\n",
       "  <tbody>\n",
       "    <tr>\n",
       "      <th>0</th>\n",
       "      <td>Snake</td>\n",
       "      <td>1019</td>\n",
       "      <td>2.812500</td>\n",
       "      <td>1.864064</td>\n",
       "      <td>5.895833</td>\n",
       "      <td>2.553592</td>\n",
       "      <td>6.020833</td>\n",
       "      <td>2.383361</td>\n",
       "    </tr>\n",
       "    <tr>\n",
       "      <th>1</th>\n",
       "      <td>Snake</td>\n",
       "      <td>1022</td>\n",
       "      <td>4.403846</td>\n",
       "      <td>1.683363</td>\n",
       "      <td>5.423077</td>\n",
       "      <td>1.861332</td>\n",
       "      <td>5.846154</td>\n",
       "      <td>1.649535</td>\n",
       "    </tr>\n",
       "    <tr>\n",
       "      <th>2</th>\n",
       "      <td>Snake</td>\n",
       "      <td>1030</td>\n",
       "      <td>2.977273</td>\n",
       "      <td>1.302746</td>\n",
       "      <td>5.809524</td>\n",
       "      <td>2.166689</td>\n",
       "      <td>6.380952</td>\n",
       "      <td>1.637255</td>\n",
       "    </tr>\n",
       "    <tr>\n",
       "      <th>3</th>\n",
       "      <td>Snake</td>\n",
       "      <td>1040</td>\n",
       "      <td>2.454545</td>\n",
       "      <td>1.606014</td>\n",
       "      <td>5.642857</td>\n",
       "      <td>2.620942</td>\n",
       "      <td>6.690476</td>\n",
       "      <td>1.981476</td>\n",
       "    </tr>\n",
       "    <tr>\n",
       "      <th>4</th>\n",
       "      <td>Snake</td>\n",
       "      <td>1050</td>\n",
       "      <td>2.408163</td>\n",
       "      <td>1.619135</td>\n",
       "      <td>6.729167</td>\n",
       "      <td>2.180568</td>\n",
       "      <td>6.479167</td>\n",
       "      <td>2.221650</td>\n",
       "    </tr>\n",
       "    <tr>\n",
       "      <th>...</th>\n",
       "      <td>...</td>\n",
       "      <td>...</td>\n",
       "      <td>...</td>\n",
       "      <td>...</td>\n",
       "      <td>...</td>\n",
       "      <td>...</td>\n",
       "      <td>...</td>\n",
       "      <td>...</td>\n",
       "    </tr>\n",
       "    <tr>\n",
       "      <th>699</th>\n",
       "      <td>Auto accident</td>\n",
       "      <td>4664_2</td>\n",
       "      <td>3.541667</td>\n",
       "      <td>2.405299</td>\n",
       "      <td>6.265306</td>\n",
       "      <td>1.987204</td>\n",
       "      <td>5.479167</td>\n",
       "      <td>2.315439</td>\n",
       "    </tr>\n",
       "    <tr>\n",
       "      <th>700</th>\n",
       "      <td>Car accident</td>\n",
       "      <td>6250_1</td>\n",
       "      <td>2.903846</td>\n",
       "      <td>1.537245</td>\n",
       "      <td>5.730769</td>\n",
       "      <td>1.869417</td>\n",
       "      <td>5.826923</td>\n",
       "      <td>2.229228</td>\n",
       "    </tr>\n",
       "    <tr>\n",
       "      <th>701</th>\n",
       "      <td>Firefighter</td>\n",
       "      <td>6250_2</td>\n",
       "      <td>6.065217</td>\n",
       "      <td>2.254893</td>\n",
       "      <td>5.826087</td>\n",
       "      <td>1.912582</td>\n",
       "      <td>3.978261</td>\n",
       "      <td>2.275367</td>\n",
       "    </tr>\n",
       "    <tr>\n",
       "      <th>702</th>\n",
       "      <td>Auto accident</td>\n",
       "      <td>6570_1</td>\n",
       "      <td>2.521739</td>\n",
       "      <td>1.974719</td>\n",
       "      <td>6.152174</td>\n",
       "      <td>2.449194</td>\n",
       "      <td>6.565217</td>\n",
       "      <td>2.381896</td>\n",
       "    </tr>\n",
       "    <tr>\n",
       "      <th>703</th>\n",
       "      <td>Fire</td>\n",
       "      <td>6570_2</td>\n",
       "      <td>4.642857</td>\n",
       "      <td>1.997821</td>\n",
       "      <td>5.219512</td>\n",
       "      <td>2.031160</td>\n",
       "      <td>4.853659</td>\n",
       "      <td>2.019418</td>\n",
       "    </tr>\n",
       "  </tbody>\n",
       "</table>\n",
       "<p>704 rows × 8 columns</p>\n",
       "</div>"
      ],
      "text/plain": [
       "              图片内容    图片编号        效价     效价标准差       唤醒度    唤醒度标准差       优势度  \\\n",
       "0            Snake    1019  2.812500  1.864064  5.895833  2.553592  6.020833   \n",
       "1            Snake    1022  4.403846  1.683363  5.423077  1.861332  5.846154   \n",
       "2            Snake    1030  2.977273  1.302746  5.809524  2.166689  6.380952   \n",
       "3            Snake    1040  2.454545  1.606014  5.642857  2.620942  6.690476   \n",
       "4            Snake    1050  2.408163  1.619135  6.729167  2.180568  6.479167   \n",
       "..             ...     ...       ...       ...       ...       ...       ...   \n",
       "699  Auto accident  4664_2  3.541667  2.405299  6.265306  1.987204  5.479167   \n",
       "700   Car accident  6250_1  2.903846  1.537245  5.730769  1.869417  5.826923   \n",
       "701   Firefighter   6250_2  6.065217  2.254893  5.826087  1.912582  3.978261   \n",
       "702  Auto accident  6570_1  2.521739  1.974719  6.152174  2.449194  6.565217   \n",
       "703           Fire  6570_2  4.642857  1.997821  5.219512  2.031160  4.853659   \n",
       "\n",
       "       优势度标准差  \n",
       "0    2.383361  \n",
       "1    1.649535  \n",
       "2    1.637255  \n",
       "3    1.981476  \n",
       "4    2.221650  \n",
       "..        ...  \n",
       "699  2.315439  \n",
       "700  2.229228  \n",
       "701  2.275367  \n",
       "702  2.381896  \n",
       "703  2.019418  \n",
       "\n",
       "[704 rows x 8 columns]"
      ]
     },
     "execution_count": 4,
     "metadata": {},
     "output_type": "execute_result"
    }
   ],
   "source": [
    "import numpy as np\n",
    "import pandas as pd\n",
    "import os\n",
    "import shutil\n",
    "from scipy import stats\n",
    "df = pd.read_excel('IAPS_scores.xls')\n",
    "df['图片编号'] = df.图片编号.astype(str)\n",
    "\n",
    "df"
   ]
  },
  {
   "cell_type": "code",
   "execution_count": 5,
   "metadata": {},
   "outputs": [
    {
     "ename": "FileNotFoundError",
     "evalue": "[WinError 3] 系统找不到指定的路径。: 'IMAGES'",
     "output_type": "error",
     "traceback": [
      "\u001b[1;31m---------------------------------------------------------------------------\u001b[0m",
      "\u001b[1;31mFileNotFoundError\u001b[0m                         Traceback (most recent call last)",
      "Cell \u001b[1;32mIn[5], line 1\u001b[0m\n\u001b[1;32m----> 1\u001b[0m files \u001b[39m=\u001b[39m os\u001b[39m.\u001b[39;49mlistdir(\u001b[39m'\u001b[39;49m\u001b[39mIMAGES\u001b[39;49m\u001b[39m'\u001b[39;49m)\n\u001b[0;32m      2\u001b[0m new_list \u001b[39m=\u001b[39m []\n\u001b[0;32m      3\u001b[0m \u001b[39mfor\u001b[39;00m item \u001b[39min\u001b[39;00m files:\n",
      "\u001b[1;31mFileNotFoundError\u001b[0m: [WinError 3] 系统找不到指定的路径。: 'IMAGES'"
     ]
    }
   ],
   "source": [
    "files = os.listdir('IMAGES')\n",
    "new_list = []\n",
    "for item in files:\n",
    "    new_list.append(item.split('.')[0])\n",
    "\n",
    "new_list = pd.Series(new_list)\n",
    "df_cut =df[df['图片编号'].isin(new_list) ]\n",
    "df_cut = df_cut.sort_values(['效价'],ascending=False).reset_index()\n",
    "# 列表专用：isin()\n",
    "df_cut"
   ]
  },
  {
   "attachments": {},
   "cell_type": "markdown",
   "metadata": {},
   "source": [
    "图片\n",
    "![](source/negative/2385.JPG)\n",
    "\n",
    "**requirements:**\n",
    ">(i) positive, neutral and negative stimuli significantly differed among each other in valence ratings   (positive > neutral > negative)\n",
    "\n",
    ">(ii) positive and negative stimuli were equally arousing while neutral ones were significantly less arousing (neutral < positive = negative)\n",
    "\n",
    "> They performed two blocks for each emotional valence (negative, neutral, positive) for each cognitive load condition (1-back, 2-back) (total = 12 blocks)."
   ]
  },
  {
   "cell_type": "code",
   "execution_count": 2,
   "metadata": {},
   "outputs": [
    {
     "ename": "NameError",
     "evalue": "name 'df_cut' is not defined",
     "output_type": "error",
     "traceback": [
      "\u001b[1;31m---------------------------------------------------------------------------\u001b[0m",
      "\u001b[1;31mNameError\u001b[0m                                 Traceback (most recent call last)",
      "Cell \u001b[1;32mIn[2], line 1\u001b[0m\n\u001b[1;32m----> 1\u001b[0m df_positive \u001b[39m=\u001b[39m df_cut[:\u001b[39m150\u001b[39m]\u001b[39m.\u001b[39mreset_index()\n\u001b[0;32m      2\u001b[0m df_negative \u001b[39m=\u001b[39m df_cut[\u001b[39m-\u001b[39m\u001b[39m150\u001b[39m:]\u001b[39m.\u001b[39mreset_index()\n\u001b[0;32m      3\u001b[0m df_neutral \u001b[39m=\u001b[39m df_cut[\u001b[39mint\u001b[39m((\u001b[39mlen\u001b[39m(df_cut)\u001b[39m-\u001b[39m\u001b[39m1\u001b[39m)\u001b[39m/\u001b[39m\u001b[39m2\u001b[39m)\u001b[39m-\u001b[39m\u001b[39m75\u001b[39m:\u001b[39mint\u001b[39m((\u001b[39mlen\u001b[39m(df_cut)\u001b[39m-\u001b[39m\u001b[39m1\u001b[39m)\u001b[39m/\u001b[39m\u001b[39m2\u001b[39m)\u001b[39m+\u001b[39m\u001b[39m75\u001b[39m]\u001b[39m.\u001b[39mreset_index()\n",
      "\u001b[1;31mNameError\u001b[0m: name 'df_cut' is not defined"
     ]
    }
   ],
   "source": [
    "df_positive = df_cut[:150].reset_index()\n",
    "df_negative = df_cut[-150:].reset_index()\n",
    "df_neutral = df_cut[int((len(df_cut)-1)/2)-75:int((len(df_cut)-1)/2)+75].reset_index()\n",
    "\n",
    "df_positive.drop(['index'],axis=1,inplace=True)\n",
    "df_neutral.drop(['index'],axis=1,inplace=True)\n",
    "df_negative.drop(['index'],axis=1,inplace=True)\n",
    "\n",
    "df_positive['label'] = 'positive'\n",
    "df_neutral['label'] = 'neutral'\n",
    "df_negative['label'] = 'negative'\n",
    "\n",
    "df_neutral"
   ]
  },
  {
   "cell_type": "code",
   "execution_count": 52,
   "metadata": {},
   "outputs": [],
   "source": [
    "def copy_files(folder,df):\n",
    "    for poimter in range(len(df)):\n",
    "        picname = df.图片编号[poimter]+'.JPG'\n",
    "\n",
    "        shutil.copy(('IMAGES/'+ picname), (folder+picname))\n",
    "    pass\n",
    "\n",
    "# copy_files('source/negative/', df_negative)\n",
    "# copy_files('source/positive/', df_positive)\n",
    "# copy_files('source/neutral/', df_neutral)\n",
    "\n"
   ]
  },
  {
   "cell_type": "code",
   "execution_count": 53,
   "metadata": {},
   "outputs": [
    {
     "data": {
      "text/plain": [
       "Ttest_relResult(statistic=200.51938332341783, pvalue=3.7740974287812285e-183)"
      ]
     },
     "execution_count": 53,
     "metadata": {},
     "output_type": "execute_result"
    }
   ],
   "source": [
    "def T_test(nplist_1, nplist_2):\n",
    "    return stats.ttest_rel(nplist_1, nplist_2)\n",
    "\n",
    "T_test(df_positive['效价'], df_negative['效价'])  # 差异显著"
   ]
  },
  {
   "cell_type": "code",
   "execution_count": 54,
   "metadata": {},
   "outputs": [
    {
     "data": {
      "text/plain": [
       "Ttest_relResult(statistic=110.56526695266581, pvalue=6.736415400218894e-145)"
      ]
     },
     "execution_count": 54,
     "metadata": {},
     "output_type": "execute_result"
    }
   ],
   "source": [
    "T_test(df_positive['效价'], df_neutral['效价'])"
   ]
  },
  {
   "cell_type": "code",
   "execution_count": 55,
   "metadata": {},
   "outputs": [
    {
     "name": "stdout",
     "output_type": "stream",
     "text": [
      "150 150 150\n"
     ]
    }
   ],
   "source": [
    "print(len(df_positive), len(df_negative), len(df_neutral))"
   ]
  },
  {
   "cell_type": "code",
   "execution_count": 56,
   "metadata": {},
   "outputs": [
    {
     "data": {
      "text/plain": [
       "['nag_1.xlsx',\n",
       " 'nag_2.xlsx',\n",
       " 'nag_3.xlsx',\n",
       " 'neu_1.xlsx',\n",
       " 'neu_2.xlsx',\n",
       " 'neu_3.xlsx',\n",
       " 'pos_1.xlsx',\n",
       " 'pos_2.xlsx',\n",
       " 'pos_3.xlsx',\n",
       " 'practice_nag_1.xlsx',\n",
       " 'practice_nag_2.xlsx',\n",
       " 'practice_nag_3.xlsx',\n",
       " 'practice_neu_1.xlsx',\n",
       " 'practice_neu_2.xlsx',\n",
       " 'practice_neu_3.xlsx',\n",
       " 'practice_pos_1.xlsx',\n",
       " 'practice_pos_2.xlsx',\n",
       " 'practice_pos_3.xlsx']"
      ]
     },
     "execution_count": 56,
     "metadata": {},
     "output_type": "execute_result"
    }
   ],
   "source": [
    "listr = os.listdir()\n",
    "ner = []\n",
    "for itrm in listr:\n",
    "    if itrm.endswith('.xlsx'):\n",
    "        ner.append(itrm)\n",
    "table = ner[1:]\n",
    "# d_exp = pd.read_excel(table[1])\n",
    "table"
   ]
  },
  {
   "cell_type": "code",
   "execution_count": 57,
   "metadata": {},
   "outputs": [
    {
     "name": "stdout",
     "output_type": "stream",
     "text": [
      "21\n",
      "22\n",
      "23\n",
      "21\n",
      "22\n",
      "23\n",
      "21\n",
      "22\n",
      "23\n",
      "10\n",
      "10\n",
      "10\n",
      "10\n",
      "10\n",
      "10\n",
      "10\n",
      "10\n",
      "10\n",
      "54 54 54\n"
     ]
    }
   ],
   "source": [
    "start_location = 'source/'\n",
    "for nume in table:\n",
    "    length = 0\n",
    "\n",
    "    df = pd.read_excel(nume)\n",
    "\n",
    "    if 'practice' in nume:\n",
    "        length = 10\n",
    "    else:\n",
    "        if '1' in nume:\n",
    "            # 1-back\n",
    "            length = 21\n",
    "        elif '2' in nume:\n",
    "            # 2-back\n",
    "            length = 22\n",
    "        else:\n",
    "            # 3-back\n",
    "            length = 23\n",
    "\n",
    "    # change the picture location\n",
    "    if 'nag' in nume:\n",
    "        print(length)\n",
    "        start_location = 'source/negative/'\n",
    "        pn = df_negative.sample(length)\n",
    "        df_negative = pd.concat([df_negative,pn,pn]).drop_duplicates(keep=False)\n",
    "        pn = pn.reset_index()\n",
    "        cn = start_location + pn.图片编号+\".JPG\"\n",
    "\n",
    "        \n",
    "    elif 'neu' in nume: \n",
    "        print(length)\n",
    "        start_location = 'source/neutral/' \n",
    "        pt = df_neutral.sample(length)\n",
    "        df_neutral = pd.concat([df_neutral,pt,pt]).drop_duplicates(keep=False)\n",
    "        pt = pt.reset_index()\n",
    "        cn = start_location + pt.图片编号+\".JPG\"\n",
    "\n",
    "    else:\n",
    "        print(length)\n",
    "        start_location = 'source/positive/'\n",
    "        pp = df_positive.sample(length)\n",
    "        df_positive = pd.concat([df_positive,pp,pp]).drop_duplicates(keep=False)\n",
    "        pp = pp.reset_index()\n",
    "        cn = start_location + pp.图片编号+\".JPG\"\n",
    "    \n",
    "    df.Pic = cn\n",
    "    df.to_excel(nume, index=False)\n",
    "\n",
    "print(len(df_negative), len(df_neutral), len(df_positive))"
   ]
  },
  {
   "cell_type": "code",
   "execution_count": 2,
   "metadata": {},
   "outputs": [
    {
     "data": {
      "text/plain": [
       "90"
      ]
     },
     "execution_count": 2,
     "metadata": {},
     "output_type": "execute_result"
    }
   ],
   "source": [
    "import os\n",
    "len(os.listdir('source/negative'))"
   ]
  }
 ],
 "metadata": {
  "kernelspec": {
   "display_name": "Python 3.9.13 ('base')",
   "language": "python",
   "name": "python3"
  },
  "language_info": {
   "codemirror_mode": {
    "name": "ipython",
    "version": 3
   },
   "file_extension": ".py",
   "mimetype": "text/x-python",
   "name": "python",
   "nbconvert_exporter": "python",
   "pygments_lexer": "ipython3",
   "version": "3.9.13"
  },
  "orig_nbformat": 4,
  "vscode": {
   "interpreter": {
    "hash": "f8b40d688a12481f01eadf7380c47edd8a49484a47dba3db091451640e880c68"
   }
  }
 },
 "nbformat": 4,
 "nbformat_minor": 2
}
